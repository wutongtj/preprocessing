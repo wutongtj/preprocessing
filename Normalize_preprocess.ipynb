{
 "cells": [
  {
   "cell_type": "code",
   "execution_count": 13,
   "metadata": {},
   "outputs": [],
   "source": [
    "import nibabel as nib\n",
    "import numpy as np"
   ]
  },
  {
   "cell_type": "code",
   "execution_count": 14,
   "metadata": {},
   "outputs": [],
   "source": [
    "img1 = nib.load(\"fat.nii\")\n",
    "img2 = nib.load(\"water.nii\")\n",
    "fat = img1.get_fdata()\n",
    "water = img2.get_fdata()\n",
    "\n",
    "total = np.add(fat, water)\n",
    "percentile = np.percentile(total, 95)\n",
    "smallnumber = np.multiply(1.5, percentile)\n",
    "fat_new = 1000 * fat / (total + smallnumber)\n",
    "water_new = 1000 * water / (total + smallnumber)\n",
    "\n",
    "fat_new = nib.Nifti1Image(fat_new,np.eye(4))\n",
    "nib.save(fat_new, 'fat_out.nii')\n",
    "water_new = nib.Nifti1Image(water_new,np.eye(4))\n",
    "nib.save(water_new, 'water_out.nii')"
   ]
  }
 ],
 "metadata": {
  "kernelspec": {
   "display_name": "Python 3",
   "language": "python",
   "name": "python3"
  },
  "language_info": {
   "codemirror_mode": {
    "name": "ipython",
    "version": 3
   },
   "file_extension": ".py",
   "mimetype": "text/x-python",
   "name": "python",
   "nbconvert_exporter": "python",
   "pygments_lexer": "ipython3",
   "version": "3.7.6"
  }
 },
 "nbformat": 4,
 "nbformat_minor": 4
}
